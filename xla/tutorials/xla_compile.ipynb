{
  "nbformat": 4,
  "nbformat_minor": 0,
  "metadata": {
    "colab": {
      "name": "The XLA compile API",
      "version": "0.3.2",
      "provenance": [],
      "collapsed_sections": [],
      "toc_visible": true
    },
    "kernelspec": {
      "name": "python3",
      "display_name": "Python 3"
    }
  },
  "cells": [
    {
      "metadata": {
        "colab_type": "text",
        "id": "f4TSNCvpENrW"
      },
      "cell_type": "markdown",
      "source": [
        "##### Copyright 2018 The TensorFlow Authors."
      ]
    },
    {
      "metadata": {
        "cellView": "form",
        "colab_type": "code",
        "id": "vamNSA0vEP-m",
        "colab": {}
      },
      "cell_type": "code",
      "source": [
        "#@title Licensed under the Apache License, Version 2.0 (the \"License\");\n",
        "# you may not use this file except in compliance with the License.\n",
        "# You may obtain a copy of the License at\n",
        "#\n",
        "# https://www.apache.org/licenses/LICENSE-2.0\n",
        "#\n",
        "# Unless required by applicable law or agreed to in writing, software\n",
        "# distributed under the License is distributed on an \"AS IS\" BASIS,\n",
        "# WITHOUT WARRANTIES OR CONDITIONS OF ANY KIND, either express or implied.\n",
        "# See the License for the specific language governing permissions and\n",
        "# limitations under the License."
      ],
      "execution_count": 0,
      "outputs": []
    },
    {
      "metadata": {
        "colab_type": "text",
        "id": "e1oSi4lHFt3z"
      },
      "cell_type": "markdown",
      "source": [
        "# XLAコンパイラAPI"
      ]
    },
    {
      "metadata": {
        "colab_type": "text",
        "id": "b7noD9NjFRL-"
      },
      "cell_type": "markdown",
      "source": [
        "<table class=\"tfo-notebook-buttons\" align=\"left\">\n",
        "  <td>\n",
        "    <a target=\"_blank\" href=\"https://www.tensorflow.org/xla/tutorials/xla_compile\"><img src=\"https://www.tensorflow.org/images/tf_logo_32px.png\" />View on TensorFlow.org</a>\n",
        "  </td>\n",
        "  <td>\n",
        "    <a target=\"_blank\" href=\"https://colab.research.google.com/github/tensorflow/tensorflow/blob/master/tensorflow/compiler/xla/g3doc/tutorials/xla_compile.ipynb\"><img src=\"https://www.tensorflow.org/images/colab_logo_32px.png\" />Run in Google Colab</a>\n",
        "  </td>\n",
        "  <td>\n",
        "    <a target=\"_blank\" href=\"https://github.com/tensorflow/tensorflow/blob/master/tensorflow/compiler/xla/g3doc/tutorials/xla_compile.ipynb\"><img src=\"https://www.tensorflow.org/images/GitHub-Mark-32px.png\" />View source on GitHub</a>\n",
        "  </td>\n",
        "</table>"
      ]
    },
    {
      "metadata": {
        "colab_type": "text",
        "id": "v9YbsuLZaBXy"
      },
      "cell_type": "markdown",
      "source": [
        "\n",
        "\n",
        "TensorFlowとXLAライブラリをインポートします。XLAには、一部または全てのモデルを [XLA](https://www.tensorflow.org/extend/xla/) でコンパイルする実験的なAPIである `xla.compile()` が含まれています。"
      ]
    },
    {
      "metadata": {
        "colab_type": "code",
        "id": "45kUPj5ZFrRa",
        "colab": {}
      },
      "cell_type": "code",
      "source": [
        "import tensorflow as tf\n",
        "\n",
        "from tensorflow.contrib.compiler import xla"
      ],
      "execution_count": 0,
      "outputs": []
    },
    {
      "metadata": {
        "colab_type": "text",
        "id": "GZVNiRmTDV-5"
      },
      "cell_type": "markdown",
      "source": [
        "必要ないくつかの定数を定義し、 MNISTのデータセットを用意します。"
      ]
    },
    {
      "metadata": {
        "colab_type": "code",
        "id": "f37TSEGvGX4_",
        "colab": {}
      },
      "cell_type": "code",
      "source": [
        "# それぞれの入力イメージの大きさは、 28 x 28ピクセル\n",
        "IMAGE_SIZE = 28 * 28\n",
        "# 個別の数字のラベル [0..9] の個数\n",
        "NUM_CLASSES = 10\n",
        "# それぞれのトレーニングバッチ（ステップ）での例の数\n",
        "TRAIN_BATCH_SIZE = 100\n",
        "# トレーニングステップを実行する回数\n",
        "TRAIN_STEPS = 1000"
      ],
      "execution_count": 0,
      "outputs": []
    },
    {
      "metadata": {
        "colab_type": "code",
        "id": "TiVXchblG5hK",
        "colab": {}
      },
      "cell_type": "code",
      "source": [
        "# MNIST datasetをロードする。\n",
        "train, test = tf.keras.datasets.mnist.load_data()\n",
        "train_ds = tf.data.Dataset.from_tensor_slices(train).batch(TRAIN_BATCH_SIZE).repeat()\n",
        "test_ds = tf.data.Dataset.from_tensor_slices(test).batch(TRAIN_BATCH_SIZE)\n",
        "\n",
        "iterator = tf.data.Iterator.from_structure(train_ds.output_types, train_ds.output_shapes)\n",
        "images, labels = iterator.get_next()\n",
        "images = tf.reshape(images, [-1, IMAGE_SIZE])\n",
        "images, labels = tf.cast(images, tf.float32), tf.cast(labels, tf.int64)"
      ],
      "execution_count": 0,
      "outputs": []
    },
    {
      "metadata": {
        "colab_type": "text",
        "id": "x_ZehpZP-SfS"
      },
      "cell_type": "markdown",
      "source": [
        "# モデルを構築する関数の定義\n",
        "\n",
        "以下のコードブロックは、順伝搬と逆伝搬の両方を行う、１つのdenseレイヤーを持つ簡単なモデルを構築する関数を含みます。\n",
        "\n",
        "コードが呼ばれたとき、２つの値を返します。 `y` は、それぞれのターゲットのクラスの予測確率を表す `tf.Tensor` です。 `train_step` は `global_step` の値を増加し、変数の更新を行う `tf.Operation` です。"
      ]
    },
    {
      "metadata": {
        "colab_type": "code",
        "id": "ZbhJl_WvGa3g",
        "colab": {}
      },
      "cell_type": "code",
      "source": [
        "def build_mnist_model(x, y_):\n",
        "  y = tf.keras.layers.Dense(NUM_CLASSES).apply(x)\n",
        "\n",
        "  cross_entropy = tf.losses.sparse_softmax_cross_entropy(labels=y_, logits=y)\n",
        "  train_step = tf.train.GradientDescentOptimizer(0.5).minimize(cross_entropy)\n",
        "\n",
        "  return y, train_step"
      ],
      "execution_count": 0,
      "outputs": []
    },
    {
      "metadata": {
        "colab_type": "text",
        "id": "7Jh3lyQHDfM9"
      },
      "cell_type": "markdown",
      "source": [
        "# XLA の有効化\n",
        "\n",
        "XLA を有効化するには `build_mnist_model` 関数を `xla.compile` に渡します。以下のコードブロックは、モデルを `xla.compile()` 関数でラップします。これにより、提供された入力を持つターゲット関数をXLAで実行できます。"
      ]
    },
    {
      "metadata": {
        "colab_type": "code",
        "id": "kYpCXCdRHNuN",
        "colab": {}
      },
      "cell_type": "code",
      "source": [
        "[y] = xla.compile(build_mnist_model, inputs=[images, labels])"
      ],
      "execution_count": 0,
      "outputs": []
    },
    {
      "metadata": {
        "colab_type": "text",
        "id": "4giQh62IrZGF"
      },
      "cell_type": "markdown",
      "source": [
        "グラフをコンパイルするとき、XLAはターゲット関数によって構築されたグラフのノードを、いくつかのXLAのオペレータで置き換えます。\n",
        "\n",
        "xla.compileは、生成されたXLAのオペレータから独立して実行できる `tf.Operation` を返しません\n",
        "代わりに、ターゲット関数から返された `tf.Operation` ノードは、返された全ての `tf.Tensor` の値との制御依存関係として追加されます。これにより、 返されたテンソルが評価されるときに、 `tf.Operation` ノードの実行をトリガします。\n",
        "\n",
        " 擬似コードによるxla.compileの実装は、以下のようになります：\n",
        "\n",
        "---\n",
        "```\n",
        "# TensorFlowに、XLAが扱いやすい方法でコードを実行するよう依頼する\n",
        "\n",
        "y, train_step = build_mnist_model(images, labels)\n",
        "with tf.control_dependencies([train_step]):\n",
        "  y = tf.identity(y)\n",
        "\n",
        "# TensorFlowに、XLAが扱いやすい方法でコードの実行を停止するよう依頼する\n",
        "```\n",
        "---\n",
        "\n",
        "xla.compile()は常に `tf.Tensor` のリスト（１要素しか無かったとしても）を返します。"
      ]
    },
    {
      "metadata": {
        "colab_type": "text",
        "id": "TPGas4jjFLZl"
      },
      "cell_type": "markdown",
      "source": [
        "もしあなたが構築したグラフを今表示したら、通常のTensorFlowグラフとそれほど変わらないということを見て、前に述べたXLAのオペレータを見つける事ができません。これは、あなたが `sess.run()` でグラフを実行しようとしても、実際のコンパイルは後ほど発生するからです。後ほど、TensorFlowは実際にXLAオペレータを生成する一連のグラフ書き換えパスをトリガーします。これは、すべての入力がそろったときに、計算をコンパイルして実行します。"
      ]
    },
    {
      "metadata": {
        "colab_type": "text",
        "id": "EZD1m_n1DxAF"
      },
      "cell_type": "markdown",
      "source": [
        "# モデルの学習とテスト"
      ]
    },
    {
      "metadata": {
        "colab_type": "code",
        "id": "qe28bAHNHUG2",
        "colab": {}
      },
      "cell_type": "code",
      "source": [
        "# セッションを作成しすべての変数を初期化。\n",
        "# xla.compile()は、Keras model.fit() APIやTF eager modeとはまだ 動作しません。\n",
        "sess = tf.Session()\n",
        "sess.run(tf.global_variables_initializer())"
      ],
      "execution_count": 0,
      "outputs": []
    },
    {
      "metadata": {
        "colab_type": "text",
        "id": "qgsKmz3n2UiW"
      },
      "cell_type": "markdown",
      "source": [
        "以下のコードはモデルを学習します。 `y` の評価は、制御依存関係がある `train_step` をトリガします。これは、モデル変数を更新します。"
      ]
    },
    {
      "metadata": {
        "colab_type": "code",
        "id": "_GxF6jTRHVuA",
        "colab": {
          "base_uri": "https://localhost:8080/",
          "height": 34
        },
        "outputId": "fbf299ca-02d5-4e95-f9fe-8f3c0432d132"
      },
      "cell_type": "code",
      "source": [
        "# 学習用データセットを与える\n",
        "sess.run(iterator.make_initializer(train_ds))\n",
        "\n",
        "# TRAIN_STEPS ステップだけ実行する\n",
        "for i in range(TRAIN_STEPS):\n",
        "  sess.run(y)\n",
        "\n",
        "print(\"Model trained for %s steps.\" % TRAIN_STEPS)"
      ],
      "execution_count": 21,
      "outputs": [
        {
          "output_type": "stream",
          "text": [
            "Model trained for 1000 steps.\n"
          ],
          "name": "stdout"
        }
      ]
    },
    {
      "metadata": {
        "colab_type": "code",
        "id": "dHlQlRSRHXD1",
        "colab": {
          "base_uri": "https://localhost:8080/",
          "height": 34
        },
        "outputId": "9c3677a2-ec84-406f-9d2c-d722844f3093"
      },
      "cell_type": "code",
      "source": [
        "# 学習済みモデルをテストする\n",
        "\n",
        "# テスト用データセットを与える\n",
        "sess.run(iterator.make_initializer(test_ds))\n",
        "\n",
        "# 精度を計算する\n",
        "correct_prediction = tf.equal(tf.argmax(y, 1), labels)\n",
        "accuracy = tf.reduce_mean(tf.cast(correct_prediction, tf.float32))\n",
        "print(\"Prediction accuracy after training: %s\" % sess.run(accuracy))"
      ],
      "execution_count": 22,
      "outputs": [
        {
          "output_type": "stream",
          "text": [
            "Prediction accuracy after training: 0.91\n"
          ],
          "name": "stdout"
        }
      ]
    },
    {
      "metadata": {
        "colab_type": "code",
        "id": "ynJQIuzjHYOb",
        "colab": {}
      },
      "cell_type": "code",
      "source": [
        "# セッションを片付ける\n",
        "sess.close()"
      ],
      "execution_count": 0,
      "outputs": []
    }
  ]
}
